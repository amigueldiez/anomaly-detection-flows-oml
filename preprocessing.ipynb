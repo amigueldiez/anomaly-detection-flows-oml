{
 "cells": [
  {
   "cell_type": "code",
   "execution_count": 179,
   "metadata": {},
   "outputs": [],
   "source": [
    "# Import the libraries\n",
    "import pandas as pd\n",
    "import matplotlib.pyplot as plt\n",
    "import numpy as np\n",
    "\n",
    "# Import the dataset\n",
    "dataset = pd.read_csv('dataset_adapted.csv')\n",
    "\n",
    "# Delete last column\n",
    "dataset = dataset.drop(dataset.columns[[-1]], axis=1)\n",
    "\n",
    "# Use only columns that are relevant\n",
    "columns_to_keep = ['IPV4_SRC_ADDR', 'L4_SRC_PORT', 'IPV4_DST_ADDR', 'L4_DST_PORT', 'PROTOCOL', 'IN_BYTES', 'OUT_BYTES', 'TCP_FLAGS','Label']\n",
    "\n",
    "dataset = dataset[columns_to_keep]\n",
    "dataset = dataset.iloc[:, :].values"
   ]
  },
  {
   "cell_type": "code",
   "execution_count": 180,
   "metadata": {},
   "outputs": [
    {
     "data": {
      "text/plain": [
       "array([['172.31.64.123', 49875, '199.16.156.21', ..., 2158, 5796, 0],\n",
       "       ['172.31.65.11', 56399, '209.85.202.155', ..., 897, 3249, 0],\n",
       "       ['193.111.198.65', 28686, '172.31.69.6', ..., 1979, 875, 0],\n",
       "       ...,\n",
       "       ['172.31.67.63', 49906, '52.84.7.207', ..., 1550, 10356, 0],\n",
       "       ['172.31.64.58', 52592, '209.85.202.154', ..., 1855, 6274, 0],\n",
       "       ['172.31.64.46', 57549, '172.31.0.2', ..., 136, 228, 0]],\n",
       "      dtype=object)"
      ]
     },
     "metadata": {},
     "output_type": "display_data"
    }
   ],
   "source": [
    "# Print dataset\n",
    "display(dataset)"
   ]
  },
  {
   "cell_type": "code",
   "execution_count": 181,
   "metadata": {},
   "outputs": [
    {
     "data": {
      "text/plain": [
       "array([[297, 49875, 691, ..., 2158, 5796, 0],\n",
       "       [383, 56399, 727, ..., 897, 3249, 0],\n",
       "       [947, 28686, 641, ..., 1979, 875, 0],\n",
       "       ...,\n",
       "       [642, 49906, 1027, ..., 1550, 10356, 0],\n",
       "       [337, 52592, 726, ..., 1855, 6274, 0],\n",
       "       [330, 57549, 193, ..., 136, 228, 0]], dtype=object)"
      ]
     },
     "metadata": {},
     "output_type": "display_data"
    }
   ],
   "source": [
    "# Apply Label Encoding to the first column and the third column -> IPs\n",
    "from sklearn.compose import ColumnTransformer\n",
    "from sklearn.preprocessing import LabelEncoder\n",
    "\n",
    "labelencoder_X = LabelEncoder()\n",
    "dataset[:, 0] = labelencoder_X.fit_transform(dataset[:, 0])\n",
    "\n",
    "# Apply Label Encoding to the third column\n",
    "labelencoder_X = LabelEncoder()\n",
    "dataset[:, 2] = labelencoder_X.fit_transform(dataset[:, 2])\n",
    "\n",
    "\n",
    "display(dataset)\n"
   ]
  },
  {
   "cell_type": "code",
   "execution_count": 182,
   "metadata": {},
   "outputs": [],
   "source": [
    "# Scale the data X\n",
    "from sklearn.preprocessing import QuantileTransformer\n",
    "\n",
    "sc_X = QuantileTransformer(random_state=0)\n",
    "\n",
    "# PCA to reduce the number of features\n",
    "from sklearn.decomposition import PCA\n",
    "\n",
    "pca = PCA(n_components=5)"
   ]
  },
  {
   "cell_type": "code",
   "execution_count": 183,
   "metadata": {},
   "outputs": [
    {
     "name": "stdout",
     "output_type": "stream",
     "text": [
      "Datos benignos\n",
      "[[297 49875 691 ... 6 2158 5796]\n",
      " [383 56399 727 ... 6 897 3249]\n",
      " [947 28686 641 ... 6 1979 875]\n",
      " ...\n",
      " [642 49906 1027 ... 6 1550 10356]\n",
      " [337 52592 726 ... 6 1855 6274]\n",
      " [330 57549 193 ... 17 136 228]]\n",
      "Datos anómalos\n",
      "[[771 59094 634 ... 6 840 560]\n",
      " [711 58780 660 ... 6 538 341]\n",
      " [758 45822 634 ... 6 3326 160]\n",
      " ...\n",
      " [188 59488 634 ... 6 420 280]\n",
      " [760 65534 636 ... 6 538 1147]\n",
      " [188 56614 634 ... 6 420 280]]\n"
     ]
    }
   ],
   "source": [
    "# Filtrar el conjunto de datos para incluir solo las filas donde 'Label' es 0 o 1\n",
    "benign_data = dataset[np.where(dataset[:, -1] == 0)]\n",
    "anomaly_data = dataset[np.where(dataset[:, -1] == 1)]\n",
    "\n",
    "\n",
    "# Delete last column\n",
    "benign_data = np.delete(benign_data, -1, axis=1)\n",
    "anomaly_data = np.delete(anomaly_data, -1, axis=1)\n",
    "\n",
    "\n",
    "print(\"Datos benignos\")\n",
    "print(benign_data)\n",
    "print(\"Datos anómalos\")\n",
    "print(anomaly_data)\n"
   ]
  },
  {
   "cell_type": "code",
   "execution_count": 184,
   "metadata": {},
   "outputs": [],
   "source": [
    "benign_data = sc_X.fit_transform(benign_data)\n",
    "benign_data = pca.fit_transform(benign_data)\n",
    "\n",
    "anomaly_data = sc_X.transform(anomaly_data)\n",
    "anomaly_data = pca.transform(anomaly_data)"
   ]
  },
  {
   "cell_type": "code",
   "execution_count": 186,
   "metadata": {},
   "outputs": [
    {
     "name": "stdout",
     "output_type": "stream",
     "text": [
      "(7500, 5)\n"
     ]
    }
   ],
   "source": [
    "print(benign_data.shape)"
   ]
  },
  {
   "cell_type": "code",
   "execution_count": 187,
   "metadata": {},
   "outputs": [
    {
     "data": {
      "text/html": [
       "<div>\n",
       "<style scoped>\n",
       "    .dataframe tbody tr th:only-of-type {\n",
       "        vertical-align: middle;\n",
       "    }\n",
       "\n",
       "    .dataframe tbody tr th {\n",
       "        vertical-align: top;\n",
       "    }\n",
       "\n",
       "    .dataframe thead th {\n",
       "        text-align: right;\n",
       "    }\n",
       "</style>\n",
       "<table border=\"1\" class=\"dataframe\">\n",
       "  <thead>\n",
       "    <tr style=\"text-align: right;\">\n",
       "      <th></th>\n",
       "      <th>0</th>\n",
       "      <th>1</th>\n",
       "      <th>2</th>\n",
       "      <th>3</th>\n",
       "      <th>4</th>\n",
       "      <th>5</th>\n",
       "    </tr>\n",
       "  </thead>\n",
       "  <tbody>\n",
       "    <tr>\n",
       "      <th>0</th>\n",
       "      <td>0.617170</td>\n",
       "      <td>0.121834</td>\n",
       "      <td>-0.273790</td>\n",
       "      <td>-0.117997</td>\n",
       "      <td>0.066081</td>\n",
       "      <td>0.0</td>\n",
       "    </tr>\n",
       "    <tr>\n",
       "      <th>1</th>\n",
       "      <td>-0.202467</td>\n",
       "      <td>0.793558</td>\n",
       "      <td>-0.423386</td>\n",
       "      <td>0.291362</td>\n",
       "      <td>-0.292638</td>\n",
       "      <td>0.0</td>\n",
       "    </tr>\n",
       "    <tr>\n",
       "      <th>2</th>\n",
       "      <td>-0.527184</td>\n",
       "      <td>0.198475</td>\n",
       "      <td>0.541072</td>\n",
       "      <td>0.359835</td>\n",
       "      <td>-0.085897</td>\n",
       "      <td>1.0</td>\n",
       "    </tr>\n",
       "    <tr>\n",
       "      <th>3</th>\n",
       "      <td>0.546703</td>\n",
       "      <td>-0.212228</td>\n",
       "      <td>-0.521206</td>\n",
       "      <td>-0.053289</td>\n",
       "      <td>0.058278</td>\n",
       "      <td>0.0</td>\n",
       "    </tr>\n",
       "    <tr>\n",
       "      <th>4</th>\n",
       "      <td>-0.609254</td>\n",
       "      <td>0.073594</td>\n",
       "      <td>-0.042914</td>\n",
       "      <td>-0.156513</td>\n",
       "      <td>-0.140902</td>\n",
       "      <td>0.0</td>\n",
       "    </tr>\n",
       "    <tr>\n",
       "      <th>...</th>\n",
       "      <td>...</td>\n",
       "      <td>...</td>\n",
       "      <td>...</td>\n",
       "      <td>...</td>\n",
       "      <td>...</td>\n",
       "      <td>...</td>\n",
       "    </tr>\n",
       "    <tr>\n",
       "      <th>10001</th>\n",
       "      <td>0.784046</td>\n",
       "      <td>0.039273</td>\n",
       "      <td>-0.329989</td>\n",
       "      <td>0.139875</td>\n",
       "      <td>-0.047366</td>\n",
       "      <td>0.0</td>\n",
       "    </tr>\n",
       "    <tr>\n",
       "      <th>10002</th>\n",
       "      <td>0.561874</td>\n",
       "      <td>0.034157</td>\n",
       "      <td>-0.264120</td>\n",
       "      <td>-0.103438</td>\n",
       "      <td>0.062178</td>\n",
       "      <td>0.0</td>\n",
       "    </tr>\n",
       "    <tr>\n",
       "      <th>10003</th>\n",
       "      <td>-0.468588</td>\n",
       "      <td>0.105028</td>\n",
       "      <td>0.115839</td>\n",
       "      <td>0.101222</td>\n",
       "      <td>0.182364</td>\n",
       "      <td>1.0</td>\n",
       "    </tr>\n",
       "    <tr>\n",
       "      <th>10004</th>\n",
       "      <td>-0.834126</td>\n",
       "      <td>0.187334</td>\n",
       "      <td>-0.203349</td>\n",
       "      <td>-0.169415</td>\n",
       "      <td>0.110178</td>\n",
       "      <td>0.0</td>\n",
       "    </tr>\n",
       "    <tr>\n",
       "      <th>10005</th>\n",
       "      <td>-0.361667</td>\n",
       "      <td>-0.297341</td>\n",
       "      <td>-0.183386</td>\n",
       "      <td>0.454642</td>\n",
       "      <td>-0.098026</td>\n",
       "      <td>0.0</td>\n",
       "    </tr>\n",
       "  </tbody>\n",
       "</table>\n",
       "<p>10006 rows × 6 columns</p>\n",
       "</div>"
      ],
      "text/plain": [
       "              0         1         2         3         4    5\n",
       "0      0.617170  0.121834 -0.273790 -0.117997  0.066081  0.0\n",
       "1     -0.202467  0.793558 -0.423386  0.291362 -0.292638  0.0\n",
       "2     -0.527184  0.198475  0.541072  0.359835 -0.085897  1.0\n",
       "3      0.546703 -0.212228 -0.521206 -0.053289  0.058278  0.0\n",
       "4     -0.609254  0.073594 -0.042914 -0.156513 -0.140902  0.0\n",
       "...         ...       ...       ...       ...       ...  ...\n",
       "10001  0.784046  0.039273 -0.329989  0.139875 -0.047366  0.0\n",
       "10002  0.561874  0.034157 -0.264120 -0.103438  0.062178  0.0\n",
       "10003 -0.468588  0.105028  0.115839  0.101222  0.182364  1.0\n",
       "10004 -0.834126  0.187334 -0.203349 -0.169415  0.110178  0.0\n",
       "10005 -0.361667 -0.297341 -0.183386  0.454642 -0.098026  0.0\n",
       "\n",
       "[10006 rows x 6 columns]"
      ]
     },
     "metadata": {},
     "output_type": "display_data"
    }
   ],
   "source": [
    "# Aggregate the label 1 to anomaly_data\n",
    "anomaly_data = np.append(anomaly_data, np.ones((anomaly_data.shape[0], 1)), axis=1)\n",
    "\n",
    "# Aggregate the label 0 to benign_data\n",
    "benign_data = np.append(benign_data, np.zeros((benign_data.shape[0], 1)), axis=1)\n",
    "\n",
    "# Concatenate the two datasets\n",
    "data = np.concatenate((benign_data, anomaly_data), axis=0)\n",
    "\n",
    "data = pd.DataFrame(data)\n",
    "\n",
    "# Shuffle the data\n",
    "data = data.sample(frac=1).reset_index(drop=True)\n",
    "\n",
    "display(data)"
   ]
  },
  {
   "cell_type": "code",
   "execution_count": 188,
   "metadata": {},
   "outputs": [
    {
     "data": {
      "image/png": "[encoded data removed]",
      "text/plain": [
       "<Figure size 640x480 with 1 Axes>"
      ]
     },
     "metadata": {},
     "output_type": "display_data"
    }
   ],
   "source": [
    "# Plot the data in 2D\n",
    "plt.scatter(data[data[2] == 0][0], data[data[2] == 0][1], color = 'blue', label = '0', s=3.0)\n",
    "plt.scatter(data[data[2] == 1][0], data[data[2] == 1][1], color = 'red', label = '1', s=3.0)\n",
    "plt.title('Preprocessing data with PCA')\n",
    "plt.xlabel('PCA 1')\n",
    "plt.ylabel('PCA 2')\n",
    "plt.legend()\n",
    "plt.show()\n"
   ]
  },
  {
   "cell_type": "code",
   "execution_count": 189,
   "metadata": {},
   "outputs": [],
   "source": [
    "# Plot the data in 3D\n",
    "\n",
    "# from mpl_toolkits.mplot3d import Axes3D\n",
    "\n",
    "# fig = plt.figure()\n",
    "# ax = fig.add_subplot(111, projection='3d')\n",
    "# ax.scatter(data[data[3] == 0][0], data[data[3] == 0][1], data[data[3] == 0][2], color = 'blue', label = '0', s=3.0)\n",
    "# ax.scatter(data[data[3] == 1][0], data[data[3] == 1][1], data[data[3] == 1][2], color = 'red', label = '1', s=3.0)\n",
    "\n",
    "# # Cambia el punto de vista\n",
    "# # 35 , 50\n",
    "# ax.view_init(elev=35, azim=50)\n",
    "\n",
    "# plt.title('PCA')\n",
    "# plt.xlabel('PCA 1')\n",
    "# plt.ylabel('PCA 2')\n",
    "# plt.legend()\n",
    "# plt.show()\n"
   ]
  },
  {
   "cell_type": "code",
   "execution_count": 191,
   "metadata": {},
   "outputs": [],
   "source": [
    "# Plot the data in 3D\n",
    "\n",
    "# from mpl_toolkits.mplot3d import Axes3D\n",
    "\n",
    "# fig = plt.figure()\n",
    "# ax = fig.add_subplot(111, projection='3d')\n",
    "# ax.scatter(data[data[3] == 0][0], data[data[3] == 0][1], data[data[3] == 0][2], color = 'blue', label = '0', s=3.0)\n",
    "# ax.scatter(data[data[3] == 1][0], data[data[3] == 1][1], data[data[3] == 1][2], color = 'red', label = '1', s=3.0)\n",
    "\n",
    "# # Cambia el punto de vista\n",
    "# ax.view_init(elev=30, azim=-30)\n",
    "\n",
    "# plt.title('Preprocessing data with PCA')\n",
    "# plt.xlabel('PCA 1')\n",
    "# plt.ylabel('PCA 2')\n",
    "# plt.legend()\n",
    "# plt.show()\n"
   ]
  },
  {
   "cell_type": "code",
   "execution_count": 192,
   "metadata": {},
   "outputs": [
    {
     "name": "stdout",
     "output_type": "stream",
     "text": [
      "              0         1         2         3         4    5\n",
      "0      0.617170  0.121834 -0.273790 -0.117997  0.066081  0.0\n",
      "1     -0.202467  0.793558 -0.423386  0.291362 -0.292638  0.0\n",
      "2     -0.527184  0.198475  0.541072  0.359835 -0.085897  1.0\n",
      "3      0.546703 -0.212228 -0.521206 -0.053289  0.058278  0.0\n",
      "4     -0.609254  0.073594 -0.042914 -0.156513 -0.140902  0.0\n",
      "...         ...       ...       ...       ...       ...  ...\n",
      "10001  0.784046  0.039273 -0.329989  0.139875 -0.047366  0.0\n",
      "10002  0.561874  0.034157 -0.264120 -0.103438  0.062178  0.0\n",
      "10003 -0.468588  0.105028  0.115839  0.101222  0.182364  1.0\n",
      "10004 -0.834126  0.187334 -0.203349 -0.169415  0.110178  0.0\n",
      "10005 -0.361667 -0.297341 -0.183386  0.454642 -0.098026  0.0\n",
      "\n",
      "[10006 rows x 6 columns]\n"
     ]
    }
   ],
   "source": [
    "print(data)"
   ]
  },
  {
   "cell_type": "code",
   "execution_count": 193,
   "metadata": {},
   "outputs": [
    {
     "data": {
      "text/plain": [
       "(10006, 6)"
      ]
     },
     "execution_count": 193,
     "metadata": {},
     "output_type": "execute_result"
    }
   ],
   "source": [
    "data.shape"
   ]
  },
  {
   "cell_type": "code",
   "execution_count": 194,
   "metadata": {},
   "outputs": [
    {
     "name": "stdout",
     "output_type": "stream",
     "text": [
      "['PCA1', 'PCA2', 'PCA3', 'PCA4', 'PCA5', 'Label']\n"
     ]
    }
   ],
   "source": [
    "# Save to a file the dataset\n",
    "\n",
    "# ADD COLUMNS NAMES\n",
    "text_label = \"PCA\"\n",
    "counter_label = 1\n",
    "data_columns_labels = []\n",
    "\n",
    "for i in range(data.shape[1]-1):\n",
    "    data_columns_labels.append(text_label + str(counter_label))\n",
    "    counter_label += 1\n",
    "data_columns_labels.append('Label')\n",
    "print(data_columns_labels)\n",
    "data.columns = data_columns_labels\n",
    "data.to_csv('dataset_adapted_pca.csv', index=False, header=True)"
   ]
  }
 ],
 "metadata": {
  "kernelspec": {
   "display_name": "Python 3",
   "language": "python",
   "name": "python3"
  },
  "language_info": {
   "codemirror_mode": {
    "name": "ipython",
    "version": 3
   },
   "file_extension": ".py",
   "mimetype": "text/x-python",
   "name": "python",
   "nbconvert_exporter": "python",
   "pygments_lexer": "ipython3",
   "version": "3.12.3"
  }
 },
 "nbformat": 4,
 "nbformat_minor": 2
}
